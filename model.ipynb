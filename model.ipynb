{
 "cells": [
  {
   "cell_type": "code",
   "execution_count": 113,
   "metadata": {},
   "outputs": [],
   "source": [
    "import os\n",
    "import torch\n",
    "import torch.nn as nn\n",
    "import torch.optim as optim\n",
    "from torch_geometric.data import Data\n",
    "from torch_geometric.utils import negative_sampling\n",
    "from torch_geometric.nn import GCNConv, GATConv\n",
    "import pandas as pd\n",
    "from sklearn.preprocessing import StandardScaler, LabelEncoder\n",
    "from tqdm import tqdm\n",
    "import numpy as np\n",
    "import time\n",
    "\n",
    "import matplotlib.pyplot as plt\n",
    "\n",
    "os.environ['PYTORCH_MPS_ENABLE_FALLBACK']='1'\n",
    "\n",
    "# Set random seed for reproducibility\n",
    "torch.manual_seed(42)\n",
    "np.random.seed(42)\n"
   ]
  },
  {
   "cell_type": "code",
   "execution_count": 114,
   "metadata": {},
   "outputs": [],
   "source": [
    "\n",
    "# Function to plot training and validation loss over epochs\n",
    "def plot_loss(train_losses, val_losses, save_path='loss_plot.png'):\n",
    "    \"\"\"\n",
    "    Plots the training and validation loss over epochs.\n",
    "\n",
    "    Args:\n",
    "        train_losses (list): List of training losses.\n",
    "        val_losses (list): List of validation losses.\n",
    "        save_path (str): Path to save the plot image.\n",
    "    \"\"\"\n",
    "    plt.figure(figsize=(10, 6))\n",
    "    epochs = range(1, len(train_losses) + 1)\n",
    "    plt.plot(epochs, train_losses, label='Training Loss')\n",
    "    plt.plot(epochs, val_losses, label='Validation Loss')\n",
    "    plt.xlabel('Epochs')\n",
    "    plt.ylabel('Loss')\n",
    "    plt.title('Training and Validation Loss Over Time')\n",
    "    plt.legend()\n",
    "    plt.grid(True)\n",
    "    plt.savefig(save_path)\n",
    "    plt.show()\n",
    "    print(f\"Loss plot saved to {save_path}\")\n"
   ]
  },
  {
   "cell_type": "code",
   "execution_count": 115,
   "metadata": {},
   "outputs": [],
   "source": [
    "\n",
    "def preprocess_data(filepath, sample_size=10000, k=10, random_state=42):\n",
    "    \"\"\"\n",
    "    Load the dataset, sample a subset, encode categorical features,\n",
    "    normalize continuous features, and create an optimized edge list.\n",
    "\n",
    "    Args:\n",
    "        filepath (str): Path to the CSV dataset.\n",
    "        sample_size (int): Number of samples to select.\n",
    "        k (int): Number of neighbors to connect for each node.\n",
    "        random_state (int): Seed for reproducibility.\n",
    "\n",
    "    Returns:\n",
    "        Data: PyTorch Geometric Data object with sampled data.\n",
    "        dict: Encoders used for categorical features.\n",
    "    \"\"\"\n",
    "    print(\"Loading dataset...\")\n",
    "    # Load dataset\n",
    "    df = pd.read_csv(filepath)\n",
    "    print(f\"Original dataset size: {df.shape}\")\n",
    "\n",
    "    # Sample the dataset\n",
    "    print(\"Sampling data...\")\n",
    "    if sample_size < len(df):\n",
    "        df_sampled = df.sample(n=sample_size, random_state=random_state).reset_index(drop=True)\n",
    "    else:\n",
    "        df_sampled = df.reset_index(drop=True)\n",
    "    print(f\"Sampled dataset size: {df_sampled.shape}\")\n",
    "\n",
    "    # Encode categorical features\n",
    "    print(\"Encoding categorical features...\")\n",
    "    encoders = {}\n",
    "    categorical_cols = ['disease_family', 'disease', 'smoking_status', 'cough_type']\n",
    "    for col in categorical_cols:\n",
    "        if col in df_sampled.columns:\n",
    "            encoder = LabelEncoder()\n",
    "            df_sampled[col] = encoder.fit_transform(df_sampled[col])\n",
    "            encoders[col] = encoder\n",
    "            print(f\"Encoded column: {col}\")\n",
    "        else:\n",
    "            raise ValueError(f\"Column '{col}' not found in the dataset.\")\n",
    "\n",
    "    # Normalize continuous features\n",
    "    print(\"Normalizing continuous features...\")\n",
    "    scaler = StandardScaler()\n",
    "    continuous_cols = ['systolic_bp', 'diastolic_bp', 'cholesterol', 'BMI', 'heart_rate', 'blood_glucose']\n",
    "    for col in continuous_cols:\n",
    "        if col in df_sampled.columns:\n",
    "            df_sampled[col] = scaler.fit_transform(df_sampled[[col]])\n",
    "            print(f\"Normalized column: {col}\")\n",
    "        else:\n",
    "            raise ValueError(f\"Column '{col}' not found in the dataset.\")\n",
    "\n",
    "    # Prepare node features (X)\n",
    "    print(\"Preparing node features...\")\n",
    "    if 'patient_id' in df_sampled.columns:\n",
    "        feature_cols = [col for col in df_sampled.columns if col != 'patient_id']\n",
    "        x = torch.tensor(df_sampled[feature_cols].values, dtype=torch.float)\n",
    "    else:\n",
    "        x = torch.tensor(df_sampled.values, dtype=torch.float)\n",
    "    print(f\"Node features shape: {x.shape}\")\n",
    "\n",
    "    # Create optimized edge list\n",
    "    print(\"Creating edge list...\")\n",
    "    edge_index = create_edge_list_vectorized(df_sampled, k=k)\n",
    "    print(f\"Edge list created with shape: {edge_index.shape}\")\n",
    "\n",
    "    return Data(x=x, edge_index=edge_index), encoders\n"
   ]
  },
  {
   "cell_type": "code",
   "execution_count": 116,
   "metadata": {},
   "outputs": [],
   "source": [
    "\n",
    "def create_edge_list_vectorized(df, k=10):\n",
    "    \"\"\"\n",
    "    Optimized edge list creation using vectorized operations.\n",
    "    Connect each node to k randomly selected neighbors within the same 'disease_family'.\n",
    "\n",
    "    Args:\n",
    "        df (pd.DataFrame): Sampled DataFrame.\n",
    "        k (int): Number of neighbors to connect for each node.\n",
    "\n",
    "    Returns:\n",
    "        torch.Tensor: Edge index tensor of shape [2, num_edges].\n",
    "    \"\"\"\n",
    "    print(\"Grouping data by 'disease_family'...\")\n",
    "    edges = []\n",
    "\n",
    "    groups = df.groupby('disease_family').groups\n",
    "    print(f\"Number of disease families: {len(groups)}\")\n",
    "\n",
    "    for group_name, group in tqdm(groups.items(), total=len(groups), desc=\"Processing groups\"):\n",
    "        group_indices = group.values  # Assuming group is a pandas Index or similar\n",
    "        num_nodes = len(group_indices)\n",
    "\n",
    "        if num_nodes <= 1:\n",
    "            print(f\"Group '{group_name}' has only {num_nodes} node(s). Skipping.\")\n",
    "            continue  # No edges can be formed\n",
    "\n",
    "        # Determine the actual number of neighbors\n",
    "        actual_k = min(k, num_nodes - 1)\n",
    "\n",
    "        # Shuffle the indices for randomness\n",
    "        shuffled_indices = np.random.permutation(group_indices)\n",
    "\n",
    "        # Assign the first 'actual_k' indices as neighbors\n",
    "        neighbors = np.tile(shuffled_indices[:actual_k], (num_nodes, 1))\n",
    "\n",
    "        # Create source and target edges\n",
    "        source_nodes = np.repeat(group_indices, actual_k)\n",
    "        target_nodes = neighbors.flatten()\n",
    "\n",
    "        # Append to the edge list\n",
    "        edges.extend(zip(source_nodes, target_nodes))\n",
    "\n",
    "    # Convert to NumPy array for efficient processing\n",
    "    edges = np.array(edges)\n",
    "\n",
    "    print(\"Removing duplicate edges and self-loops...\")\n",
    "    # Remove self-loops\n",
    "    mask = edges[:, 0] != edges[:, 1]\n",
    "    edges = edges[mask]\n",
    "\n",
    "    # Remove duplicate edges\n",
    "    edges = np.unique(edges, axis=0)\n",
    "    print(f\"Total edges after sampling: {len(edges)}\")\n",
    "\n",
    "    if len(edges) == 0:\n",
    "        raise ValueError(\"No edges were created. Please check the edge creation logic.\")\n",
    "\n",
    "    # Convert to PyTorch tensor\n",
    "    edge_index = torch.tensor(edges, dtype=torch.long).t()\n",
    "\n",
    "    return edge_index\n"
   ]
  },
  {
   "cell_type": "code",
   "execution_count": 117,
   "metadata": {},
   "outputs": [],
   "source": [
    "class PatientGNN(nn.Module):\n",
    "    def __init__(self, in_channels, hidden_channels, out_channels, heads):\n",
    "        super(PatientGNN, self).__init__()\n",
    "        self.gcn1 = GCNConv(in_channels, hidden_channels)\n",
    "        self.attention = GATConv(hidden_channels, hidden_channels, heads=heads, concat=False)\n",
    "        self.gcn2 = GCNConv(hidden_channels, out_channels)\n",
    "\n",
    "    def forward(self, x, edge_index):\n",
    "        x = self.gcn1(x, edge_index)\n",
    "        x = torch.relu(x)\n",
    "        x = self.attention(x, edge_index)\n",
    "        x = torch.relu(x)\n",
    "        x = self.gcn2(x, edge_index)\n",
    "        return x\n"
   ]
  },
  {
   "cell_type": "code",
   "execution_count": 118,
   "metadata": {},
   "outputs": [],
   "source": [
    "def train(model, optimizer, criterion, data, device, batch_size=64):\n",
    "    model.train()\n",
    "    optimizer.zero_grad()\n",
    "    \n",
    "    num_nodes = data.num_nodes\n",
    "    indices = torch.randperm(num_nodes)\n",
    "    mini_batches = indices.split(batch_size)\n",
    "    \n",
    "    total_loss = 0\n",
    "    bce_loss = torch.nn.BCEWithLogitsLoss()  # Use BCE with logits for numerical stability\n",
    "    \n",
    "    for batch in mini_batches:\n",
    "        x_batch = data.x[batch].to(device)\n",
    "        global_to_local = {global_idx.item(): local_idx for local_idx, global_idx in enumerate(batch)}\n",
    "        \n",
    "        # Filter and remap edges (same as before)\n",
    "        mask_pos = torch.isin(data.train_pos_edge_index[0], batch) & torch.isin(data.train_pos_edge_index[1], batch)\n",
    "        pos_edge_index_batch = data.train_pos_edge_index[:, mask_pos].to(device)\n",
    "        pos_edge_index_batch = torch.tensor(\n",
    "            [[global_to_local[node.item()] for node in pos_edge_index_batch_row]\n",
    "             for pos_edge_index_batch_row in pos_edge_index_batch],\n",
    "            dtype=torch.long,\n",
    "            device=device,\n",
    "        )\n",
    "        \n",
    "        mask_neg = torch.isin(data.train_neg_edge_index[0], batch) & torch.isin(data.train_neg_edge_index[1], batch)\n",
    "        neg_edge_index_batch = data.train_neg_edge_index[:, mask_neg].to(device)\n",
    "        neg_edge_index_batch = torch.tensor(\n",
    "            [[global_to_local[node.item()] for node in neg_edge_index_batch_row]\n",
    "             for neg_edge_index_batch_row in neg_edge_index_batch],\n",
    "            dtype=torch.long,\n",
    "            device=device,\n",
    "        )\n",
    "        \n",
    "        out = model(x_batch, pos_edge_index_batch)\n",
    "        \n",
    "        # Compute positive and negative scores\n",
    "        pos_src, pos_dst = pos_edge_index_batch\n",
    "        neg_src, neg_dst = neg_edge_index_batch\n",
    "        \n",
    "        pos_out_src = out[pos_src]\n",
    "        pos_out_dst = out[pos_dst]\n",
    "        neg_out_src = out[neg_src]\n",
    "        neg_out_dst = out[neg_dst]\n",
    "        \n",
    "        pos_scores = (pos_out_src * pos_out_dst).sum(dim=-1)  # Raw logits for BCE\n",
    "        neg_scores = (neg_out_src * neg_out_dst).sum(dim=-1)  # Raw logits for BCE\n",
    "        \n",
    "        # Combine positive and negative samples for BCE\n",
    "        scores = torch.cat([pos_scores, neg_scores], dim=0)\n",
    "        labels = torch.cat([torch.ones_like(pos_scores), torch.zeros_like(neg_scores)], dim=0)\n",
    "        \n",
    "        # Compute BCE Loss\n",
    "        loss = bce_loss(scores, labels)\n",
    "        total_loss += loss.item()\n",
    "        \n",
    "        loss.backward()\n",
    "        torch.nn.utils.clip_grad_norm_(model.parameters(), max_norm=1.0)  # Gradient clipping\n",
    "        optimizer.step()\n",
    "        optimizer.zero_grad()\n",
    "    \n",
    "    return total_loss / len(mini_batches)\n"
   ]
  },
  {
   "cell_type": "code",
   "execution_count": 119,
   "metadata": {},
   "outputs": [],
   "source": [
    "\n",
    "# Evaluation Function\n",
    "def evaluate(model, criterion, data, split='val'):\n",
    "    model.eval()\n",
    "    with torch.no_grad():\n",
    "        out = model(data.x, data.train_pos_edge_index)\n",
    "\n",
    "        if split == 'val':\n",
    "            pos_edge = data.val_pos_edge_index\n",
    "            neg_edge = data.val_neg_edge_index\n",
    "        elif split == 'test':\n",
    "            pos_edge = data.test_pos_edge_index\n",
    "            neg_edge = data.test_neg_edge_index\n",
    "        else:\n",
    "            raise ValueError(\"Split must be 'val' or 'test'\")\n",
    "\n",
    "        pos_src = pos_edge[0]\n",
    "        pos_dst = pos_edge[1]\n",
    "        neg_src = neg_edge[0]\n",
    "        neg_dst = neg_edge[1]\n",
    "\n",
    "        pos_out_src = out[pos_src]\n",
    "        pos_out_dst = out[pos_dst]\n",
    "        neg_out_src = out[neg_src]\n",
    "        neg_out_dst = out[neg_dst]\n",
    "\n",
    "        # Compute similarity scores\n",
    "        pos_scores = (pos_out_src * pos_out_dst).sum(dim=-1)\n",
    "        neg_scores = (neg_out_src * neg_out_dst).sum(dim=-1)\n",
    "\n",
    "        # Compute loss\n",
    "        pos_loss = -torch.log(torch.sigmoid(pos_scores) + 1e-15).mean()\n",
    "        neg_loss = -torch.log(1 - torch.sigmoid(neg_scores) + 1e-15).mean()\n",
    "        loss = pos_loss + neg_loss\n",
    "\n",
    "    return loss.item()\n"
   ]
  },
  {
   "cell_type": "code",
   "execution_count": 120,
   "metadata": {},
   "outputs": [],
   "source": [
    "\n",
    "# Recommendation Function\n",
    "def recommend_similar_patients(model, data, patient_id, top_k=5):\n",
    "    model.eval()\n",
    "    with torch.no_grad():\n",
    "        embeddings = model(data.x, data.train_pos_edge_index)\n",
    "        embeddings = embeddings.cpu()  # Ensure embeddings are on CPU\n",
    "        patient_embedding = embeddings[patient_id].unsqueeze(0)\n",
    "        similarities = torch.cosine_similarity(patient_embedding, embeddings)\n",
    "        recommended_patients = similarities.argsort(descending=True)[1:top_k+1]\n",
    "        return recommended_patients\n"
   ]
  },
  {
   "cell_type": "code",
   "execution_count": 121,
   "metadata": {},
   "outputs": [],
   "source": [
    "\n",
    "# Function to split edges into train, val, test\n",
    "def split_edges(data, val_ratio=0.05, test_ratio=0.05, random_state=42):\n",
    "    \"\"\"\n",
    "    Split the edges in data.edge_index into train, validation, and test sets.\n",
    "\n",
    "    Args:\n",
    "        data (Data): PyTorch Geometric Data object.\n",
    "        val_ratio (float): Proportion of edges to use for validation.\n",
    "        test_ratio (float): Proportion of edges to use for testing.\n",
    "        random_state (int): Seed for reproducibility.\n",
    "\n",
    "    Returns:\n",
    "        Data: Data object with train, val, and test edge indices.\n",
    "    \"\"\"\n",
    "    print(\"Splitting edges into train, validation, and test sets...\")\n",
    "    num_edges = data.edge_index.size(1)\n",
    "    num_val = int(num_edges * val_ratio)\n",
    "    num_test = int(num_edges * test_ratio)\n",
    "    num_train = num_edges - num_val - num_test\n",
    "\n",
    "    # Shuffle edge indices with reproducibility\n",
    "    generator = torch.Generator().manual_seed(random_state)\n",
    "    indices = torch.randperm(num_edges, generator=generator)\n",
    "    train_indices = indices[:num_train]\n",
    "    val_indices = indices[num_train:num_train + num_val]\n",
    "    test_indices = indices[num_train + num_val:]\n",
    "\n",
    "    data.train_pos_edge_index = data.edge_index[:, train_indices]\n",
    "    data.val_pos_edge_index = data.edge_index[:, val_indices]\n",
    "    data.test_pos_edge_index = data.edge_index[:, test_indices]\n",
    "\n",
    "    # Generate negative samples for train, val, and test\n",
    "    print(\"Generating negative samples for training...\")\n",
    "    data.train_neg_edge_index = negative_sampling(\n",
    "        edge_index=data.train_pos_edge_index,\n",
    "        num_nodes=data.num_nodes,\n",
    "        num_neg_samples=data.train_pos_edge_index.size(1),\n",
    "        method='sparse'\n",
    "    )\n",
    "\n",
    "    print(\"Generating negative samples for validation...\")\n",
    "    data.val_neg_edge_index = negative_sampling(\n",
    "        edge_index=data.val_pos_edge_index,\n",
    "        num_nodes=data.num_nodes,\n",
    "        num_neg_samples=data.val_pos_edge_index.size(1),\n",
    "        method='sparse'\n",
    "    )\n",
    "\n",
    "    print(\"Generating negative samples for testing...\")\n",
    "    data.test_neg_edge_index = negative_sampling(\n",
    "        edge_index=data.test_pos_edge_index,\n",
    "        num_nodes=data.num_nodes,\n",
    "        num_neg_samples=data.test_pos_edge_index.size(1),\n",
    "        method='sparse'\n",
    "    )\n",
    "\n",
    "    return data\n"
   ]
  },
  {
   "cell_type": "code",
   "execution_count": 122,
   "metadata": {},
   "outputs": [
    {
     "name": "stdout",
     "output_type": "stream",
     "text": [
      "Using device: cpu\n"
     ]
    }
   ],
   "source": [
    "\n",
    "# Main Execution\n",
    "\n",
    "# Filepath to dataset\n",
    "filepath = 'datasets/SynDisNet.csv'  # Update this path as needed\n",
    "\n",
    "# Set device to CUDA if available, else MPS or CPU\n",
    "if torch.cuda.is_available():\n",
    "    device = torch.device(\"cuda\")\n",
    "elif torch.backends.mps.is_available():\n",
    "    # device = torch.device(\"mps\") - currently not supported\n",
    "    device = torch.device(\"cpu\")\n",
    "else:\n",
    "    device = torch.device(\"cpu\")\n",
    "print(f\"Using device: {device}\")\n"
   ]
  },
  {
   "cell_type": "code",
   "execution_count": 123,
   "metadata": {},
   "outputs": [
    {
     "name": "stdout",
     "output_type": "stream",
     "text": [
      "Loading dataset...\n",
      "Original dataset size: (1000000, 13)\n",
      "Sampling data...\n",
      "Sampled dataset size: (64000, 13)\n",
      "Encoding categorical features...\n",
      "Encoded column: disease_family\n",
      "Encoded column: disease\n",
      "Encoded column: smoking_status\n",
      "Encoded column: cough_type\n",
      "Normalizing continuous features...\n",
      "Normalized column: systolic_bp\n",
      "Normalized column: diastolic_bp\n",
      "Normalized column: cholesterol\n",
      "Normalized column: BMI\n",
      "Normalized column: heart_rate\n",
      "Normalized column: blood_glucose\n",
      "Preparing node features...\n",
      "Node features shape: torch.Size([64000, 12])\n",
      "Creating edge list...\n",
      "Grouping data by 'disease_family'...\n",
      "Number of disease families: 10\n"
     ]
    },
    {
     "name": "stderr",
     "output_type": "stream",
     "text": [
      "Processing groups: 100%|██████████| 10/10 [00:00<00:00, 94.91it/s]"
     ]
    },
    {
     "name": "stdout",
     "output_type": "stream",
     "text": [
      "Removing duplicate edges and self-loops...\n"
     ]
    },
    {
     "name": "stderr",
     "output_type": "stream",
     "text": [
      "\n"
     ]
    },
    {
     "name": "stdout",
     "output_type": "stream",
     "text": [
      "Total edges after sampling: 639900\n",
      "Edge list created with shape: torch.Size([2, 639900])\n",
      "Splitting edges into train, validation, and test sets...\n",
      "Generating negative samples for training...\n",
      "Generating negative samples for validation...\n",
      "Generating negative samples for testing...\n",
      "Edge splits:\n",
      "Train edges: 511920\n",
      "Validation edges: 63990\n",
      "Test edges: 63990\n",
      "Moving data to device...\n"
     ]
    }
   ],
   "source": [
    "# Preprocess data and create Data object with sampling\n",
    "sample_size = 64000  # Number of samples to select\n",
    "k = 10  # Number of neighbors per node\n",
    "data, encoders = preprocess_data(filepath, sample_size=sample_size, k=k)\n",
    "\n",
    "# Split edges into train, val, and test\n",
    "data = split_edges(data, val_ratio=0.1, test_ratio=0.1, random_state=42)\n",
    "print(\"Edge splits:\")\n",
    "print(f\"Train edges: {data.train_pos_edge_index.size(1)}\")\n",
    "print(f\"Validation edges: {data.val_pos_edge_index.size(1)}\")\n",
    "print(f\"Test edges: {data.test_pos_edge_index.size(1)}\")\n",
    "\n",
    "# Move data to device\n",
    "print(\"Moving data to device...\")\n",
    "data = data.to(device)\n"
   ]
  },
  {
   "cell_type": "code",
   "execution_count": 124,
   "metadata": {},
   "outputs": [
    {
     "name": "stdout",
     "output_type": "stream",
     "text": [
      "Initializing model...\n"
     ]
    }
   ],
   "source": [
    "\n",
    "\n",
    "# Initialize model and move to device\n",
    "in_channels = data.x.size(1)\n",
    "hidden_channels = 64\n",
    "out_channels = 32\n",
    "heads = 4\n",
    "print(\"Initializing model...\")\n",
    "model = PatientGNN(in_channels=in_channels, hidden_channels=hidden_channels, out_channels=out_channels, heads=heads)\n",
    "model = model.to(device)"
   ]
  },
  {
   "cell_type": "code",
   "execution_count": 125,
   "metadata": {},
   "outputs": [],
   "source": [
    "\n",
    "\n",
    "# Optimizer and Loss Function\n",
    "optimizer = optim.Adam(model.parameters(), lr=0.001)\n",
    "criterion = nn.MSELoss()  # Alternatively, use a different loss based on your task\n",
    "\n",
    "# Training loop with progress bar\n",
    "epochs = 100\n",
    "best_val_loss = float('inf')\n",
    "patience = 20000\n",
    "counter = 0\n"
   ]
  },
  {
   "cell_type": "code",
   "execution_count": 126,
   "metadata": {},
   "outputs": [],
   "source": [
    "\n",
    "# Lists to store loss values for plotting\n",
    "train_losses = []\n",
    "val_losses = []\n"
   ]
  },
  {
   "cell_type": "code",
   "execution_count": 127,
   "metadata": {},
   "outputs": [
    {
     "name": "stdout",
     "output_type": "stream",
     "text": [
      "Starting training...\n"
     ]
    },
    {
     "name": "stderr",
     "output_type": "stream",
     "text": [
      "Training Progress:   1%|          | 1/100 [00:07<12:40,  7.69s/epoch]"
     ]
    },
    {
     "name": "stdout",
     "output_type": "stream",
     "text": [
      "raw loss: 0.656806056461637\n",
      "Epoch 0, Train Loss: 0.6568, Val Loss: 0.7669\n"
     ]
    },
    {
     "name": "stderr",
     "output_type": "stream",
     "text": [
      "Training Progress:   2%|▏         | 2/100 [00:15<12:21,  7.56s/epoch]"
     ]
    },
    {
     "name": "stdout",
     "output_type": "stream",
     "text": [
      "raw loss: 0.46165812181101906\n",
      "Epoch 1, Train Loss: 0.4617, Val Loss: 0.8058\n"
     ]
    },
    {
     "name": "stderr",
     "output_type": "stream",
     "text": [
      "Training Progress:   3%|▎         | 3/100 [00:22<12:08,  7.51s/epoch]"
     ]
    },
    {
     "name": "stdout",
     "output_type": "stream",
     "text": [
      "raw loss: 0.4803993997592775\n",
      "Epoch 2, Train Loss: 0.4804, Val Loss: 0.7472\n"
     ]
    },
    {
     "name": "stderr",
     "output_type": "stream",
     "text": [
      "Training Progress:   4%|▍         | 4/100 [00:30<11:58,  7.49s/epoch]"
     ]
    },
    {
     "name": "stdout",
     "output_type": "stream",
     "text": [
      "raw loss: 0.4598537543936381\n",
      "Epoch 3, Train Loss: 0.4599, Val Loss: 0.7525\n"
     ]
    },
    {
     "name": "stderr",
     "output_type": "stream",
     "text": [
      "Training Progress:   5%|▌         | 5/100 [00:37<11:50,  7.48s/epoch]"
     ]
    },
    {
     "name": "stdout",
     "output_type": "stream",
     "text": [
      "raw loss: 0.4613083596267397\n",
      "Epoch 4, Train Loss: 0.4613, Val Loss: 0.7334\n"
     ]
    },
    {
     "name": "stderr",
     "output_type": "stream",
     "text": [
      "Training Progress:   6%|▌         | 6/100 [00:45<11:45,  7.50s/epoch]"
     ]
    },
    {
     "name": "stdout",
     "output_type": "stream",
     "text": [
      "raw loss: 0.45115726429318626\n",
      "Epoch 5, Train Loss: 0.4512, Val Loss: 0.7453\n"
     ]
    },
    {
     "name": "stderr",
     "output_type": "stream",
     "text": [
      "Training Progress:   7%|▋         | 7/100 [00:53<11:51,  7.65s/epoch]"
     ]
    },
    {
     "name": "stdout",
     "output_type": "stream",
     "text": [
      "raw loss: 0.4428366119899447\n",
      "Epoch 6, Train Loss: 0.4428, Val Loss: 0.7881\n"
     ]
    },
    {
     "name": "stderr",
     "output_type": "stream",
     "text": [
      "Training Progress:   8%|▊         | 8/100 [01:01<11:59,  7.82s/epoch]"
     ]
    },
    {
     "name": "stdout",
     "output_type": "stream",
     "text": [
      "raw loss: 0.4413201773450488\n",
      "Epoch 7, Train Loss: 0.4413, Val Loss: 0.7542\n"
     ]
    },
    {
     "name": "stderr",
     "output_type": "stream",
     "text": [
      "Training Progress:   9%|▉         | 9/100 [01:09<12:03,  7.95s/epoch]"
     ]
    },
    {
     "name": "stdout",
     "output_type": "stream",
     "text": [
      "raw loss: 0.43700157082270064\n",
      "Epoch 8, Train Loss: 0.4370, Val Loss: 0.7693\n"
     ]
    },
    {
     "name": "stderr",
     "output_type": "stream",
     "text": [
      "Training Progress:  10%|█         | 10/100 [01:17<12:07,  8.09s/epoch]"
     ]
    },
    {
     "name": "stdout",
     "output_type": "stream",
     "text": [
      "raw loss: 0.4269550445060881\n",
      "Epoch 9, Train Loss: 0.4270, Val Loss: 0.7509\n"
     ]
    },
    {
     "name": "stderr",
     "output_type": "stream",
     "text": [
      "Training Progress:  11%|█         | 11/100 [01:26<12:12,  8.23s/epoch]"
     ]
    },
    {
     "name": "stdout",
     "output_type": "stream",
     "text": [
      "raw loss: 0.4325215258295574\n",
      "Epoch 10, Train Loss: 0.4325, Val Loss: 0.7585\n"
     ]
    },
    {
     "name": "stderr",
     "output_type": "stream",
     "text": [
      "Training Progress:  12%|█▏        | 12/100 [01:34<12:12,  8.33s/epoch]"
     ]
    },
    {
     "name": "stdout",
     "output_type": "stream",
     "text": [
      "raw loss: 0.4378876113702381\n",
      "Epoch 11, Train Loss: 0.4379, Val Loss: 0.7577\n"
     ]
    },
    {
     "name": "stderr",
     "output_type": "stream",
     "text": [
      "Training Progress:  13%|█▎        | 13/100 [01:43<12:19,  8.51s/epoch]"
     ]
    },
    {
     "name": "stdout",
     "output_type": "stream",
     "text": [
      "raw loss: 0.4268800937940204\n",
      "Epoch 12, Train Loss: 0.4269, Val Loss: 0.7454\n"
     ]
    },
    {
     "name": "stderr",
     "output_type": "stream",
     "text": [
      "Training Progress:  14%|█▍        | 14/100 [01:52<12:23,  8.64s/epoch]"
     ]
    },
    {
     "name": "stdout",
     "output_type": "stream",
     "text": [
      "raw loss: 0.42977717447848546\n",
      "Epoch 13, Train Loss: 0.4298, Val Loss: 0.7399\n"
     ]
    },
    {
     "name": "stderr",
     "output_type": "stream",
     "text": [
      "Training Progress:  15%|█▌        | 15/100 [02:01<12:21,  8.73s/epoch]"
     ]
    },
    {
     "name": "stdout",
     "output_type": "stream",
     "text": [
      "raw loss: 0.4524406102441606\n",
      "Epoch 14, Train Loss: 0.4524, Val Loss: 0.7656\n"
     ]
    },
    {
     "name": "stderr",
     "output_type": "stream",
     "text": [
      "Training Progress:  16%|█▌        | 16/100 [02:10<12:17,  8.78s/epoch]"
     ]
    },
    {
     "name": "stdout",
     "output_type": "stream",
     "text": [
      "raw loss: 0.4098685769334672\n",
      "Epoch 15, Train Loss: 0.4099, Val Loss: 0.7479\n"
     ]
    },
    {
     "name": "stderr",
     "output_type": "stream",
     "text": [
      "Training Progress:  17%|█▋        | 17/100 [02:19<12:15,  8.86s/epoch]"
     ]
    },
    {
     "name": "stdout",
     "output_type": "stream",
     "text": [
      "raw loss: 0.44463724205418237\n",
      "Epoch 16, Train Loss: 0.4446, Val Loss: 0.7592\n"
     ]
    },
    {
     "name": "stderr",
     "output_type": "stream",
     "text": [
      "Training Progress:  18%|█▊        | 18/100 [02:28<12:10,  8.91s/epoch]"
     ]
    },
    {
     "name": "stdout",
     "output_type": "stream",
     "text": [
      "raw loss: 0.41558589183148886\n",
      "Epoch 17, Train Loss: 0.4156, Val Loss: 0.7425\n"
     ]
    },
    {
     "name": "stderr",
     "output_type": "stream",
     "text": [
      "Training Progress:  19%|█▉        | 19/100 [02:37<12:06,  8.97s/epoch]"
     ]
    },
    {
     "name": "stdout",
     "output_type": "stream",
     "text": [
      "raw loss: 0.4089949606429963\n",
      "Epoch 18, Train Loss: 0.4090, Val Loss: 0.7379\n"
     ]
    },
    {
     "name": "stderr",
     "output_type": "stream",
     "text": [
      "Training Progress:  20%|██        | 20/100 [02:46<12:01,  9.02s/epoch]"
     ]
    },
    {
     "name": "stdout",
     "output_type": "stream",
     "text": [
      "raw loss: 0.42787669220614055\n",
      "Epoch 19, Train Loss: 0.4279, Val Loss: 0.7457\n"
     ]
    },
    {
     "name": "stderr",
     "output_type": "stream",
     "text": [
      "Training Progress:  21%|██        | 21/100 [02:56<11:53,  9.03s/epoch]"
     ]
    },
    {
     "name": "stdout",
     "output_type": "stream",
     "text": [
      "raw loss: 0.42244104402405874\n",
      "Epoch 20, Train Loss: 0.4224, Val Loss: 0.7461\n"
     ]
    },
    {
     "name": "stderr",
     "output_type": "stream",
     "text": [
      "Training Progress:  22%|██▏       | 22/100 [03:05<11:45,  9.05s/epoch]"
     ]
    },
    {
     "name": "stdout",
     "output_type": "stream",
     "text": [
      "raw loss: 0.4270496567090352\n",
      "Epoch 21, Train Loss: 0.4270, Val Loss: 0.7397\n"
     ]
    },
    {
     "name": "stderr",
     "output_type": "stream",
     "text": [
      "Training Progress:  23%|██▎       | 23/100 [03:14<11:37,  9.05s/epoch]"
     ]
    },
    {
     "name": "stdout",
     "output_type": "stream",
     "text": [
      "raw loss: 0.42607919919112375\n",
      "Epoch 22, Train Loss: 0.4261, Val Loss: 0.7519\n"
     ]
    },
    {
     "name": "stderr",
     "output_type": "stream",
     "text": [
      "Training Progress:  24%|██▍       | 24/100 [03:23<11:30,  9.09s/epoch]"
     ]
    },
    {
     "name": "stdout",
     "output_type": "stream",
     "text": [
      "raw loss: 0.4305950497824048\n",
      "Epoch 23, Train Loss: 0.4306, Val Loss: 0.7646\n"
     ]
    },
    {
     "name": "stderr",
     "output_type": "stream",
     "text": [
      "Training Progress:  25%|██▌       | 25/100 [03:32<11:22,  9.11s/epoch]"
     ]
    },
    {
     "name": "stdout",
     "output_type": "stream",
     "text": [
      "raw loss: 0.4112026743472569\n",
      "Epoch 24, Train Loss: 0.4112, Val Loss: 0.7364\n"
     ]
    },
    {
     "name": "stderr",
     "output_type": "stream",
     "text": [
      "Training Progress:  26%|██▌       | 26/100 [03:41<11:14,  9.12s/epoch]"
     ]
    },
    {
     "name": "stdout",
     "output_type": "stream",
     "text": [
      "raw loss: 0.4155843719130471\n",
      "Epoch 25, Train Loss: 0.4156, Val Loss: 0.7460\n"
     ]
    },
    {
     "name": "stderr",
     "output_type": "stream",
     "text": [
      "Training Progress:  27%|██▋       | 27/100 [03:50<11:07,  9.14s/epoch]"
     ]
    },
    {
     "name": "stdout",
     "output_type": "stream",
     "text": [
      "raw loss: 0.4242199898239166\n",
      "Epoch 26, Train Loss: 0.4242, Val Loss: 0.7503\n"
     ]
    },
    {
     "name": "stderr",
     "output_type": "stream",
     "text": [
      "Training Progress:  28%|██▊       | 28/100 [04:00<10:58,  9.15s/epoch]"
     ]
    },
    {
     "name": "stdout",
     "output_type": "stream",
     "text": [
      "raw loss: 0.4219315539276789\n",
      "Epoch 27, Train Loss: 0.4219, Val Loss: 0.7545\n"
     ]
    },
    {
     "name": "stderr",
     "output_type": "stream",
     "text": [
      "Training Progress:  29%|██▉       | 29/100 [04:09<10:49,  9.15s/epoch]"
     ]
    },
    {
     "name": "stdout",
     "output_type": "stream",
     "text": [
      "raw loss: 0.4263814737399419\n",
      "Epoch 28, Train Loss: 0.4264, Val Loss: 0.7433\n"
     ]
    },
    {
     "name": "stderr",
     "output_type": "stream",
     "text": [
      "Training Progress:  30%|███       | 30/100 [04:18<10:44,  9.20s/epoch]"
     ]
    },
    {
     "name": "stdout",
     "output_type": "stream",
     "text": [
      "raw loss: 0.41529738690171925\n",
      "Epoch 29, Train Loss: 0.4153, Val Loss: 0.7520\n"
     ]
    },
    {
     "name": "stderr",
     "output_type": "stream",
     "text": [
      "Training Progress:  31%|███       | 31/100 [04:27<10:36,  9.23s/epoch]"
     ]
    },
    {
     "name": "stdout",
     "output_type": "stream",
     "text": [
      "raw loss: 0.4271274320189915\n",
      "Epoch 30, Train Loss: 0.4271, Val Loss: 0.7711\n"
     ]
    },
    {
     "name": "stderr",
     "output_type": "stream",
     "text": [
      "Training Progress:  32%|███▏      | 32/100 [04:37<10:28,  9.24s/epoch]"
     ]
    },
    {
     "name": "stdout",
     "output_type": "stream",
     "text": [
      "raw loss: 0.44943989766022513\n",
      "Epoch 31, Train Loss: 0.4494, Val Loss: 0.7373\n"
     ]
    },
    {
     "name": "stderr",
     "output_type": "stream",
     "text": [
      "Training Progress:  33%|███▎      | 33/100 [04:46<10:19,  9.24s/epoch]"
     ]
    },
    {
     "name": "stdout",
     "output_type": "stream",
     "text": [
      "raw loss: 0.43731110436575754\n",
      "Epoch 32, Train Loss: 0.4373, Val Loss: 0.7418\n"
     ]
    },
    {
     "name": "stderr",
     "output_type": "stream",
     "text": [
      "Training Progress:  34%|███▍      | 34/100 [04:55<10:09,  9.24s/epoch]"
     ]
    },
    {
     "name": "stdout",
     "output_type": "stream",
     "text": [
      "raw loss: 0.4138439397017161\n",
      "Epoch 33, Train Loss: 0.4138, Val Loss: 0.7388\n"
     ]
    },
    {
     "name": "stderr",
     "output_type": "stream",
     "text": [
      "Training Progress:  35%|███▌      | 35/100 [05:04<10:03,  9.28s/epoch]"
     ]
    },
    {
     "name": "stdout",
     "output_type": "stream",
     "text": [
      "raw loss: 0.4468325948904431\n",
      "Epoch 34, Train Loss: 0.4468, Val Loss: 0.7524\n"
     ]
    },
    {
     "name": "stderr",
     "output_type": "stream",
     "text": [
      "Training Progress:  36%|███▌      | 36/100 [05:14<09:53,  9.28s/epoch]"
     ]
    },
    {
     "name": "stdout",
     "output_type": "stream",
     "text": [
      "raw loss: 0.41542790593608975\n",
      "Epoch 35, Train Loss: 0.4154, Val Loss: 0.7436\n"
     ]
    },
    {
     "name": "stderr",
     "output_type": "stream",
     "text": [
      "Training Progress:  37%|███▋      | 37/100 [05:23<09:44,  9.27s/epoch]"
     ]
    },
    {
     "name": "stdout",
     "output_type": "stream",
     "text": [
      "raw loss: 0.4321577882482892\n",
      "Epoch 36, Train Loss: 0.4322, Val Loss: 0.7367\n"
     ]
    },
    {
     "name": "stderr",
     "output_type": "stream",
     "text": [
      "Training Progress:  38%|███▊      | 38/100 [05:32<09:34,  9.26s/epoch]"
     ]
    },
    {
     "name": "stdout",
     "output_type": "stream",
     "text": [
      "raw loss: 0.4190063464736182\n",
      "Epoch 37, Train Loss: 0.4190, Val Loss: 0.7497\n"
     ]
    },
    {
     "name": "stderr",
     "output_type": "stream",
     "text": [
      "Training Progress:  39%|███▉      | 39/100 [05:41<09:25,  9.26s/epoch]"
     ]
    },
    {
     "name": "stdout",
     "output_type": "stream",
     "text": [
      "raw loss: 0.41294322576787734\n",
      "Epoch 38, Train Loss: 0.4129, Val Loss: 0.7500\n"
     ]
    },
    {
     "name": "stderr",
     "output_type": "stream",
     "text": [
      "Training Progress:  40%|████      | 40/100 [05:51<09:21,  9.36s/epoch]"
     ]
    },
    {
     "name": "stdout",
     "output_type": "stream",
     "text": [
      "raw loss: 0.41031160950660706\n",
      "Epoch 39, Train Loss: 0.4103, Val Loss: 0.7430\n"
     ]
    },
    {
     "name": "stderr",
     "output_type": "stream",
     "text": [
      "Training Progress:  41%|████      | 41/100 [06:00<09:13,  9.38s/epoch]"
     ]
    },
    {
     "name": "stdout",
     "output_type": "stream",
     "text": [
      "raw loss: 0.4285687856257908\n",
      "Epoch 40, Train Loss: 0.4286, Val Loss: 0.7424\n"
     ]
    },
    {
     "name": "stderr",
     "output_type": "stream",
     "text": [
      "Training Progress:  42%|████▏     | 42/100 [06:10<09:04,  9.39s/epoch]"
     ]
    },
    {
     "name": "stdout",
     "output_type": "stream",
     "text": [
      "raw loss: 0.4425003183266473\n",
      "Epoch 41, Train Loss: 0.4425, Val Loss: 0.7403\n"
     ]
    },
    {
     "name": "stderr",
     "output_type": "stream",
     "text": [
      "Training Progress:  43%|████▎     | 43/100 [06:19<08:54,  9.38s/epoch]"
     ]
    },
    {
     "name": "stdout",
     "output_type": "stream",
     "text": [
      "raw loss: 0.4205110505932853\n",
      "Epoch 42, Train Loss: 0.4205, Val Loss: 0.7469\n"
     ]
    },
    {
     "name": "stderr",
     "output_type": "stream",
     "text": [
      "Training Progress:  44%|████▍     | 44/100 [06:28<08:43,  9.35s/epoch]"
     ]
    },
    {
     "name": "stdout",
     "output_type": "stream",
     "text": [
      "raw loss: 0.4214754601319631\n",
      "Epoch 43, Train Loss: 0.4215, Val Loss: 0.7483\n"
     ]
    },
    {
     "name": "stderr",
     "output_type": "stream",
     "text": [
      "Training Progress:  45%|████▌     | 45/100 [06:38<08:34,  9.35s/epoch]"
     ]
    },
    {
     "name": "stdout",
     "output_type": "stream",
     "text": [
      "raw loss: 0.424724876407593\n",
      "Epoch 44, Train Loss: 0.4247, Val Loss: 0.7415\n"
     ]
    },
    {
     "name": "stderr",
     "output_type": "stream",
     "text": [
      "Training Progress:  46%|████▌     | 46/100 [06:47<08:23,  9.32s/epoch]"
     ]
    },
    {
     "name": "stdout",
     "output_type": "stream",
     "text": [
      "raw loss: 0.44665805546064224\n",
      "Epoch 45, Train Loss: 0.4467, Val Loss: 0.7381\n"
     ]
    },
    {
     "name": "stderr",
     "output_type": "stream",
     "text": [
      "Training Progress:  47%|████▋     | 47/100 [06:56<08:14,  9.32s/epoch]"
     ]
    },
    {
     "name": "stdout",
     "output_type": "stream",
     "text": [
      "raw loss: 0.4162643173384288\n",
      "Epoch 46, Train Loss: 0.4163, Val Loss: 0.7429\n"
     ]
    },
    {
     "name": "stderr",
     "output_type": "stream",
     "text": [
      "Training Progress:  48%|████▊     | 48/100 [07:06<08:06,  9.35s/epoch]"
     ]
    },
    {
     "name": "stdout",
     "output_type": "stream",
     "text": [
      "raw loss: 0.4220564171435341\n",
      "Epoch 47, Train Loss: 0.4221, Val Loss: 0.7393\n"
     ]
    },
    {
     "name": "stderr",
     "output_type": "stream",
     "text": [
      "Training Progress:  49%|████▉     | 49/100 [07:15<07:58,  9.39s/epoch]"
     ]
    },
    {
     "name": "stdout",
     "output_type": "stream",
     "text": [
      "raw loss: 0.41566298783771577\n",
      "Epoch 48, Train Loss: 0.4157, Val Loss: 0.7438\n"
     ]
    },
    {
     "name": "stderr",
     "output_type": "stream",
     "text": [
      "Training Progress:  50%|█████     | 50/100 [07:25<07:49,  9.39s/epoch]"
     ]
    },
    {
     "name": "stdout",
     "output_type": "stream",
     "text": [
      "raw loss: 0.42896585000885856\n",
      "Epoch 49, Train Loss: 0.4290, Val Loss: 0.7543\n"
     ]
    },
    {
     "name": "stderr",
     "output_type": "stream",
     "text": [
      "Training Progress:  51%|█████     | 51/100 [07:34<07:38,  9.37s/epoch]"
     ]
    },
    {
     "name": "stdout",
     "output_type": "stream",
     "text": [
      "raw loss: 0.42425573818267337\n",
      "Epoch 50, Train Loss: 0.4243, Val Loss: 0.7392\n"
     ]
    },
    {
     "name": "stderr",
     "output_type": "stream",
     "text": [
      "Training Progress:  52%|█████▏    | 52/100 [07:43<07:26,  9.31s/epoch]"
     ]
    },
    {
     "name": "stdout",
     "output_type": "stream",
     "text": [
      "raw loss: 0.4257367854080503\n",
      "Epoch 51, Train Loss: 0.4257, Val Loss: 0.7503\n"
     ]
    },
    {
     "name": "stderr",
     "output_type": "stream",
     "text": [
      "Training Progress:  53%|█████▎    | 53/100 [07:53<07:18,  9.34s/epoch]"
     ]
    },
    {
     "name": "stdout",
     "output_type": "stream",
     "text": [
      "raw loss: 0.41902403391542886\n",
      "Epoch 52, Train Loss: 0.4190, Val Loss: 0.7429\n"
     ]
    },
    {
     "name": "stderr",
     "output_type": "stream",
     "text": [
      "Training Progress:  54%|█████▍    | 54/100 [08:02<07:11,  9.38s/epoch]"
     ]
    },
    {
     "name": "stdout",
     "output_type": "stream",
     "text": [
      "raw loss: 0.429181239434651\n",
      "Epoch 53, Train Loss: 0.4292, Val Loss: 0.7351\n"
     ]
    },
    {
     "name": "stderr",
     "output_type": "stream",
     "text": [
      "Training Progress:  55%|█████▌    | 55/100 [08:12<07:04,  9.43s/epoch]"
     ]
    },
    {
     "name": "stdout",
     "output_type": "stream",
     "text": [
      "raw loss: 0.4249508246069863\n",
      "Epoch 54, Train Loss: 0.4250, Val Loss: 0.7433\n"
     ]
    },
    {
     "name": "stderr",
     "output_type": "stream",
     "text": [
      "Training Progress:  56%|█████▌    | 56/100 [08:21<06:57,  9.48s/epoch]"
     ]
    },
    {
     "name": "stdout",
     "output_type": "stream",
     "text": [
      "raw loss: 0.4392126921623472\n",
      "Epoch 55, Train Loss: 0.4392, Val Loss: 0.7408\n"
     ]
    },
    {
     "name": "stderr",
     "output_type": "stream",
     "text": [
      "Training Progress:  57%|█████▋    | 57/100 [08:31<06:49,  9.52s/epoch]"
     ]
    },
    {
     "name": "stdout",
     "output_type": "stream",
     "text": [
      "raw loss: 0.4206083778824125\n",
      "Epoch 56, Train Loss: 0.4206, Val Loss: 0.7437\n"
     ]
    },
    {
     "name": "stderr",
     "output_type": "stream",
     "text": [
      "Training Progress:  58%|█████▊    | 58/100 [08:40<06:38,  9.50s/epoch]"
     ]
    },
    {
     "name": "stdout",
     "output_type": "stream",
     "text": [
      "raw loss: 0.41879482236173415\n",
      "Epoch 57, Train Loss: 0.4188, Val Loss: 0.7481\n"
     ]
    },
    {
     "name": "stderr",
     "output_type": "stream",
     "text": [
      "Training Progress:  59%|█████▉    | 59/100 [08:50<06:29,  9.50s/epoch]"
     ]
    },
    {
     "name": "stdout",
     "output_type": "stream",
     "text": [
      "raw loss: 0.4041957885973037\n",
      "Epoch 58, Train Loss: 0.4042, Val Loss: 0.7432\n"
     ]
    },
    {
     "name": "stderr",
     "output_type": "stream",
     "text": [
      "Training Progress:  60%|██████    | 60/100 [08:59<06:20,  9.51s/epoch]"
     ]
    },
    {
     "name": "stdout",
     "output_type": "stream",
     "text": [
      "raw loss: 0.4239983319763153\n",
      "Epoch 59, Train Loss: 0.4240, Val Loss: 0.7511\n"
     ]
    },
    {
     "name": "stderr",
     "output_type": "stream",
     "text": [
      "Training Progress:  61%|██████    | 61/100 [09:09<06:10,  9.50s/epoch]"
     ]
    },
    {
     "name": "stdout",
     "output_type": "stream",
     "text": [
      "raw loss: 0.4171982793107865\n",
      "Epoch 60, Train Loss: 0.4172, Val Loss: 0.7499\n"
     ]
    },
    {
     "name": "stderr",
     "output_type": "stream",
     "text": [
      "Training Progress:  62%|██████▏   | 62/100 [09:18<06:01,  9.51s/epoch]"
     ]
    },
    {
     "name": "stdout",
     "output_type": "stream",
     "text": [
      "raw loss: 0.43283415621235255\n",
      "Epoch 61, Train Loss: 0.4328, Val Loss: 0.7416\n"
     ]
    },
    {
     "name": "stderr",
     "output_type": "stream",
     "text": [
      "Training Progress:  63%|██████▎   | 63/100 [09:28<05:51,  9.50s/epoch]"
     ]
    },
    {
     "name": "stdout",
     "output_type": "stream",
     "text": [
      "raw loss: 0.4077041274498379\n",
      "Epoch 62, Train Loss: 0.4077, Val Loss: 0.7374\n"
     ]
    },
    {
     "name": "stderr",
     "output_type": "stream",
     "text": [
      "Training Progress:  64%|██████▍   | 64/100 [09:37<05:41,  9.49s/epoch]"
     ]
    },
    {
     "name": "stdout",
     "output_type": "stream",
     "text": [
      "raw loss: 0.414236858960182\n",
      "Epoch 63, Train Loss: 0.4142, Val Loss: 0.7438\n"
     ]
    },
    {
     "name": "stderr",
     "output_type": "stream",
     "text": [
      "Training Progress:  65%|██████▌   | 65/100 [09:47<05:31,  9.48s/epoch]"
     ]
    },
    {
     "name": "stdout",
     "output_type": "stream",
     "text": [
      "raw loss: 0.41950363299203297\n",
      "Epoch 64, Train Loss: 0.4195, Val Loss: 0.7400\n"
     ]
    },
    {
     "name": "stderr",
     "output_type": "stream",
     "text": [
      "Training Progress:  66%|██████▌   | 66/100 [09:56<05:22,  9.49s/epoch]"
     ]
    },
    {
     "name": "stdout",
     "output_type": "stream",
     "text": [
      "raw loss: 0.4201903733469191\n",
      "Epoch 65, Train Loss: 0.4202, Val Loss: 0.7376\n"
     ]
    },
    {
     "name": "stderr",
     "output_type": "stream",
     "text": [
      "Training Progress:  67%|██████▋   | 67/100 [10:06<05:12,  9.47s/epoch]"
     ]
    },
    {
     "name": "stdout",
     "output_type": "stream",
     "text": [
      "raw loss: 0.4280651221199641\n",
      "Epoch 66, Train Loss: 0.4281, Val Loss: 0.7490\n"
     ]
    },
    {
     "name": "stderr",
     "output_type": "stream",
     "text": [
      "Training Progress:  68%|██████▊   | 68/100 [10:15<05:03,  9.50s/epoch]"
     ]
    },
    {
     "name": "stdout",
     "output_type": "stream",
     "text": [
      "raw loss: 0.4238866406773764\n",
      "Epoch 67, Train Loss: 0.4239, Val Loss: 0.7362\n"
     ]
    },
    {
     "name": "stderr",
     "output_type": "stream",
     "text": [
      "Training Progress:  69%|██████▉   | 69/100 [10:25<04:55,  9.54s/epoch]"
     ]
    },
    {
     "name": "stdout",
     "output_type": "stream",
     "text": [
      "raw loss: 0.4170171701245838\n",
      "Epoch 68, Train Loss: 0.4170, Val Loss: 0.7397\n"
     ]
    },
    {
     "name": "stderr",
     "output_type": "stream",
     "text": [
      "Training Progress:  70%|███████   | 70/100 [10:34<04:45,  9.50s/epoch]"
     ]
    },
    {
     "name": "stdout",
     "output_type": "stream",
     "text": [
      "raw loss: 0.4417084637615416\n",
      "Epoch 69, Train Loss: 0.4417, Val Loss: 0.7391\n"
     ]
    },
    {
     "name": "stderr",
     "output_type": "stream",
     "text": [
      "Training Progress:  71%|███████   | 71/100 [10:44<04:34,  9.47s/epoch]"
     ]
    },
    {
     "name": "stdout",
     "output_type": "stream",
     "text": [
      "raw loss: 0.43069776490567224\n",
      "Epoch 70, Train Loss: 0.4307, Val Loss: 0.7445\n"
     ]
    },
    {
     "name": "stderr",
     "output_type": "stream",
     "text": [
      "Training Progress:  72%|███████▏  | 72/100 [10:53<04:25,  9.48s/epoch]"
     ]
    },
    {
     "name": "stdout",
     "output_type": "stream",
     "text": [
      "raw loss: 0.42290968625318437\n",
      "Epoch 71, Train Loss: 0.4229, Val Loss: 0.7390\n"
     ]
    },
    {
     "name": "stderr",
     "output_type": "stream",
     "text": [
      "Training Progress:  73%|███████▎  | 73/100 [11:03<04:16,  9.49s/epoch]"
     ]
    },
    {
     "name": "stdout",
     "output_type": "stream",
     "text": [
      "raw loss: 0.4221705188826909\n",
      "Epoch 72, Train Loss: 0.4222, Val Loss: 0.7410\n"
     ]
    },
    {
     "name": "stderr",
     "output_type": "stream",
     "text": [
      "Training Progress:  74%|███████▍  | 74/100 [11:12<04:07,  9.50s/epoch]"
     ]
    },
    {
     "name": "stdout",
     "output_type": "stream",
     "text": [
      "raw loss: 0.4189572258601113\n",
      "Epoch 73, Train Loss: 0.4190, Val Loss: 0.7432\n"
     ]
    },
    {
     "name": "stderr",
     "output_type": "stream",
     "text": [
      "Training Progress:  75%|███████▌  | 75/100 [11:22<03:57,  9.52s/epoch]"
     ]
    },
    {
     "name": "stdout",
     "output_type": "stream",
     "text": [
      "raw loss: 0.40825868102293167\n",
      "Epoch 74, Train Loss: 0.4083, Val Loss: 0.7366\n"
     ]
    },
    {
     "name": "stderr",
     "output_type": "stream",
     "text": [
      "Training Progress:  76%|███████▌  | 76/100 [11:31<03:48,  9.50s/epoch]"
     ]
    },
    {
     "name": "stdout",
     "output_type": "stream",
     "text": [
      "raw loss: 0.42749194162232534\n",
      "Epoch 75, Train Loss: 0.4275, Val Loss: 0.7404\n"
     ]
    },
    {
     "name": "stderr",
     "output_type": "stream",
     "text": [
      "Training Progress:  77%|███████▋  | 77/100 [11:41<03:38,  9.49s/epoch]"
     ]
    },
    {
     "name": "stdout",
     "output_type": "stream",
     "text": [
      "raw loss: 0.4355823714581747\n",
      "Epoch 76, Train Loss: 0.4356, Val Loss: 0.7415\n"
     ]
    },
    {
     "name": "stderr",
     "output_type": "stream",
     "text": [
      "Training Progress:  78%|███████▊  | 78/100 [11:50<03:28,  9.49s/epoch]"
     ]
    },
    {
     "name": "stdout",
     "output_type": "stream",
     "text": [
      "raw loss: 0.4336168392310067\n",
      "Epoch 77, Train Loss: 0.4336, Val Loss: 0.7458\n"
     ]
    },
    {
     "name": "stderr",
     "output_type": "stream",
     "text": [
      "Training Progress:  79%|███████▉  | 79/100 [12:00<03:19,  9.49s/epoch]"
     ]
    },
    {
     "name": "stdout",
     "output_type": "stream",
     "text": [
      "raw loss: 0.41199480683084516\n",
      "Epoch 78, Train Loss: 0.4120, Val Loss: 0.7402\n"
     ]
    },
    {
     "name": "stderr",
     "output_type": "stream",
     "text": [
      "Training Progress:  80%|████████  | 80/100 [12:09<03:10,  9.53s/epoch]"
     ]
    },
    {
     "name": "stdout",
     "output_type": "stream",
     "text": [
      "raw loss: 0.4184550316560836\n",
      "Epoch 79, Train Loss: 0.4185, Val Loss: 0.7430\n"
     ]
    },
    {
     "name": "stderr",
     "output_type": "stream",
     "text": [
      "Training Progress:  81%|████████  | 81/100 [12:19<03:01,  9.53s/epoch]"
     ]
    },
    {
     "name": "stdout",
     "output_type": "stream",
     "text": [
      "raw loss: 0.4097973351913785\n",
      "Epoch 80, Train Loss: 0.4098, Val Loss: 0.7356\n"
     ]
    },
    {
     "name": "stderr",
     "output_type": "stream",
     "text": [
      "Training Progress:  82%|████████▏ | 82/100 [12:28<02:52,  9.56s/epoch]"
     ]
    },
    {
     "name": "stdout",
     "output_type": "stream",
     "text": [
      "raw loss: 0.42662558006861856\n",
      "Epoch 81, Train Loss: 0.4266, Val Loss: 0.7369\n"
     ]
    },
    {
     "name": "stderr",
     "output_type": "stream",
     "text": [
      "Training Progress:  83%|████████▎ | 83/100 [12:38<02:43,  9.63s/epoch]"
     ]
    },
    {
     "name": "stdout",
     "output_type": "stream",
     "text": [
      "raw loss: 0.4029525603566851\n",
      "Epoch 82, Train Loss: 0.4030, Val Loss: 0.7452\n"
     ]
    },
    {
     "name": "stderr",
     "output_type": "stream",
     "text": [
      "Training Progress:  84%|████████▍ | 84/100 [12:48<02:33,  9.59s/epoch]"
     ]
    },
    {
     "name": "stdout",
     "output_type": "stream",
     "text": [
      "raw loss: 0.4214698109361861\n",
      "Epoch 83, Train Loss: 0.4215, Val Loss: 0.7358\n"
     ]
    },
    {
     "name": "stderr",
     "output_type": "stream",
     "text": [
      "Training Progress:  85%|████████▌ | 85/100 [12:57<02:23,  9.58s/epoch]"
     ]
    },
    {
     "name": "stdout",
     "output_type": "stream",
     "text": [
      "raw loss: 0.42255721773420063\n",
      "Epoch 84, Train Loss: 0.4226, Val Loss: 0.7424\n"
     ]
    },
    {
     "name": "stderr",
     "output_type": "stream",
     "text": [
      "Training Progress:  86%|████████▌ | 86/100 [13:07<02:14,  9.57s/epoch]"
     ]
    },
    {
     "name": "stdout",
     "output_type": "stream",
     "text": [
      "raw loss: 0.4201539663804902\n",
      "Epoch 85, Train Loss: 0.4202, Val Loss: 0.7393\n"
     ]
    },
    {
     "name": "stderr",
     "output_type": "stream",
     "text": [
      "Training Progress:  87%|████████▋ | 87/100 [13:17<02:04,  9.60s/epoch]"
     ]
    },
    {
     "name": "stdout",
     "output_type": "stream",
     "text": [
      "raw loss: 0.4201413622451207\n",
      "Epoch 86, Train Loss: 0.4201, Val Loss: 0.7432\n"
     ]
    },
    {
     "name": "stderr",
     "output_type": "stream",
     "text": [
      "Training Progress:  88%|████████▊ | 88/100 [13:26<01:54,  9.57s/epoch]"
     ]
    },
    {
     "name": "stdout",
     "output_type": "stream",
     "text": [
      "raw loss: 0.4078985322562475\n",
      "Epoch 87, Train Loss: 0.4079, Val Loss: 0.7418\n"
     ]
    },
    {
     "name": "stderr",
     "output_type": "stream",
     "text": [
      "Training Progress:  89%|████████▉ | 89/100 [13:36<01:45,  9.63s/epoch]"
     ]
    },
    {
     "name": "stdout",
     "output_type": "stream",
     "text": [
      "raw loss: 0.40569645899628837\n",
      "Epoch 88, Train Loss: 0.4057, Val Loss: 0.7374\n"
     ]
    },
    {
     "name": "stderr",
     "output_type": "stream",
     "text": [
      "Training Progress:  90%|█████████ | 90/100 [13:45<01:36,  9.64s/epoch]"
     ]
    },
    {
     "name": "stdout",
     "output_type": "stream",
     "text": [
      "raw loss: 0.43998029615197864\n",
      "Epoch 89, Train Loss: 0.4400, Val Loss: 0.7438\n"
     ]
    },
    {
     "name": "stderr",
     "output_type": "stream",
     "text": [
      "Training Progress:  91%|█████████ | 91/100 [13:55<01:26,  9.62s/epoch]"
     ]
    },
    {
     "name": "stdout",
     "output_type": "stream",
     "text": [
      "raw loss: 0.42153037303969976\n",
      "Epoch 90, Train Loss: 0.4215, Val Loss: 0.7426\n"
     ]
    },
    {
     "name": "stderr",
     "output_type": "stream",
     "text": [
      "Training Progress:  92%|█████████▏| 92/100 [14:05<01:16,  9.62s/epoch]"
     ]
    },
    {
     "name": "stdout",
     "output_type": "stream",
     "text": [
      "raw loss: 0.4140307952960332\n",
      "Epoch 91, Train Loss: 0.4140, Val Loss: 0.7414\n"
     ]
    },
    {
     "name": "stderr",
     "output_type": "stream",
     "text": [
      "Training Progress:  93%|█████████▎| 93/100 [14:14<01:07,  9.59s/epoch]"
     ]
    },
    {
     "name": "stdout",
     "output_type": "stream",
     "text": [
      "raw loss: 0.4157673075558647\n",
      "Epoch 92, Train Loss: 0.4158, Val Loss: 0.7370\n"
     ]
    },
    {
     "name": "stderr",
     "output_type": "stream",
     "text": [
      "Training Progress:  94%|█████████▍| 94/100 [14:24<00:57,  9.59s/epoch]"
     ]
    },
    {
     "name": "stdout",
     "output_type": "stream",
     "text": [
      "raw loss: 0.42217438892712666\n",
      "Epoch 93, Train Loss: 0.4222, Val Loss: 0.7470\n"
     ]
    },
    {
     "name": "stderr",
     "output_type": "stream",
     "text": [
      "Training Progress:  95%|█████████▌| 95/100 [14:33<00:48,  9.62s/epoch]"
     ]
    },
    {
     "name": "stdout",
     "output_type": "stream",
     "text": [
      "raw loss: 0.4057527924813921\n",
      "Epoch 94, Train Loss: 0.4058, Val Loss: 0.7347\n"
     ]
    },
    {
     "name": "stderr",
     "output_type": "stream",
     "text": [
      "Training Progress:  96%|█████████▌| 96/100 [14:43<00:38,  9.61s/epoch]"
     ]
    },
    {
     "name": "stdout",
     "output_type": "stream",
     "text": [
      "raw loss: 0.41673913077702596\n",
      "Epoch 95, Train Loss: 0.4167, Val Loss: 0.7357\n"
     ]
    },
    {
     "name": "stderr",
     "output_type": "stream",
     "text": [
      "Training Progress:  97%|█████████▋| 97/100 [14:53<00:28,  9.63s/epoch]"
     ]
    },
    {
     "name": "stdout",
     "output_type": "stream",
     "text": [
      "raw loss: 0.43086822804004427\n",
      "Epoch 96, Train Loss: 0.4309, Val Loss: 0.7440\n"
     ]
    },
    {
     "name": "stderr",
     "output_type": "stream",
     "text": [
      "Training Progress:  98%|█████████▊| 98/100 [15:02<00:19,  9.58s/epoch]"
     ]
    },
    {
     "name": "stdout",
     "output_type": "stream",
     "text": [
      "raw loss: 0.4283387994482404\n",
      "Epoch 97, Train Loss: 0.4283, Val Loss: 0.7396\n"
     ]
    },
    {
     "name": "stderr",
     "output_type": "stream",
     "text": [
      "Training Progress:  99%|█████████▉| 99/100 [15:12<00:09,  9.57s/epoch]"
     ]
    },
    {
     "name": "stdout",
     "output_type": "stream",
     "text": [
      "raw loss: 0.42013751987427\n",
      "Epoch 98, Train Loss: 0.4201, Val Loss: 0.7340\n"
     ]
    },
    {
     "name": "stderr",
     "output_type": "stream",
     "text": [
      "Training Progress: 100%|██████████| 100/100 [15:21<00:00,  9.22s/epoch]"
     ]
    },
    {
     "name": "stdout",
     "output_type": "stream",
     "text": [
      "raw loss: 0.4023225357135137\n",
      "Epoch 99, Train Loss: 0.4023, Val Loss: 0.7472\n"
     ]
    },
    {
     "name": "stderr",
     "output_type": "stream",
     "text": [
      "\n"
     ]
    }
   ],
   "source": [
    "print(\"Starting training...\")\n",
    "for epoch in tqdm(range(epochs), desc=\"Training Progress\", unit=\"epoch\"):\n",
    "    loss = train(model, optimizer, criterion, data, device=device, batch_size=2048)\n",
    "\n",
    "    train_losses.append(loss)\n",
    "\n",
    "    # Evaluate on validation set\n",
    "    val_loss = evaluate(model, criterion, data, split='val')\n",
    "    val_losses.append(val_loss)\n",
    "\n",
    "    if val_loss < best_val_loss:\n",
    "        best_val_loss = val_loss\n",
    "        counter = 0\n",
    "        # Save the best model\n",
    "        torch.save(model.state_dict(), 'best_model.pth')\n",
    "    else:\n",
    "        counter += 1\n",
    "\n",
    "    if epoch % 10 == 0:\n",
    "        print(f\"raw loss: {loss}\")\n",
    "        print(f\"Epoch {epoch}, Train Loss: {loss:.4f}, Val Loss: {val_loss:.4f}\")\n",
    "\n",
    "    # Early stopping\n",
    "    if counter >= patience:\n",
    "        print(\"Early stopping triggered.\")\n",
    "        break\n"
   ]
  },
  {
   "cell_type": "code",
   "execution_count": 128,
   "metadata": {},
   "outputs": [
    {
     "name": "stdout",
     "output_type": "stream",
     "text": [
      "Loading the best model...\n"
     ]
    },
    {
     "name": "stderr",
     "output_type": "stream",
     "text": [
      "/var/folders/70/9wgnzfm56tx44byb0jjm6llr0000gn/T/ipykernel_44027/2654965690.py:3: FutureWarning: You are using `torch.load` with `weights_only=False` (the current default value), which uses the default pickle module implicitly. It is possible to construct malicious pickle data which will execute arbitrary code during unpickling (See https://github.com/pytorch/pytorch/blob/main/SECURITY.md#untrusted-models for more details). In a future release, the default value for `weights_only` will be flipped to `True`. This limits the functions that could be executed during unpickling. Arbitrary objects will no longer be allowed to be loaded via this mode unless they are explicitly allowlisted by the user via `torch.serialization.add_safe_globals`. We recommend you start setting `weights_only=True` for any use case where you don't have full control of the loaded file. Please open an issue on GitHub for any issues related to this experimental feature.\n",
      "  model.load_state_dict(torch.load('best_model.pth'))\n"
     ]
    },
    {
     "name": "stdout",
     "output_type": "stream",
     "text": [
      "Test Loss: 0.7333\n"
     ]
    }
   ],
   "source": [
    "\n",
    "# Load the best model\n",
    "print(\"Loading the best model...\")\n",
    "model.load_state_dict(torch.load('best_model.pth'))\n",
    "\n",
    "# Evaluate on test set\n",
    "test_loss = evaluate(model, criterion, data, split='test')\n",
    "print(f\"Test Loss: {test_loss:.4f}\")\n",
    "\n",
    "\n"
   ]
  },
  {
   "cell_type": "code",
   "execution_count": 129,
   "metadata": {},
   "outputs": [
    {
     "name": "stdout",
     "output_type": "stream",
     "text": [
      "Recommended patients for patient 0: [24841, 3744, 19397, 16799, 17313]\n"
     ]
    }
   ],
   "source": [
    "\n",
    "# Recommendations\n",
    "patient_id = 0  # Example patient ID (ensure it's within the sampled data range)\n",
    "if patient_id >= data.num_nodes:\n",
    "    raise ValueError(f\"patient_id {patient_id} is out of range for the dataset with {data.num_nodes} nodes.\")\n",
    "\n",
    "recommended_patients = recommend_similar_patients(model, data, patient_id, top_k=5)\n",
    "print(f\"Recommended patients for patient {patient_id}: {recommended_patients.tolist()}\")"
   ]
  },
  {
   "cell_type": "code",
   "execution_count": 130,
   "metadata": {},
   "outputs": [
    {
     "data": {
      "image/png": "[encoded data removed]",
      "text/plain": [
       "<Figure size 1000x600 with 1 Axes>"
      ]
     },
     "metadata": {},
     "output_type": "display_data"
    },
    {
     "name": "stdout",
     "output_type": "stream",
     "text": [
      "Loss plot saved to loss_plot.png\n"
     ]
    }
   ],
   "source": [
    "plot_loss(train_losses, val_losses, save_path='loss_plot.png')\n"
   ]
  },
  {
   "cell_type": "code",
   "execution_count": null,
   "metadata": {},
   "outputs": [],
   "source": []
  }
 ],
 "metadata": {
  "kernelspec": {
   "display_name": ".venv",
   "language": "python",
   "name": "python3"
  },
  "language_info": {
   "codemirror_mode": {
    "name": "ipython",
    "version": 3
   },
   "file_extension": ".py",
   "mimetype": "text/x-python",
   "name": "python",
   "nbconvert_exporter": "python",
   "pygments_lexer": "ipython3",
   "version": "3.10.14"
  }
 },
 "nbformat": 4,
 "nbformat_minor": 2
}
